{
  "cells": [
    {
      "cell_type": "markdown",
      "metadata": {
        "id": "xw8BD8v2oBGj"
      },
      "source": [
        "# Homework"
      ]
    },
    {
      "cell_type": "markdown",
      "metadata": {
        "id": "sSos7q2_oBGj"
      },
      "source": [
        "## Problem 1"
      ]
    },
    {
      "cell_type": "markdown",
      "metadata": {
        "id": "NiX8ePp0oBGk"
      },
      "source": [
        "Make a tuple containing natural numbers, the square of which is a multiple of 3, 4, but not a multiple of 8 and not exceeding 12345."
      ]
    },
    {
      "cell_type": "code",
      "execution_count": 26,
      "metadata": {
        "id": "XmPHEnS9oBGk",
        "colab": {
          "base_uri": "https://localhost:8080/"
        },
        "outputId": "21948915-9318-4ab5-9e6f-a3a6e5ddbd1b"
      },
      "outputs": [
        {
          "output_type": "stream",
          "name": "stdout",
          "text": [
            "(6, 18, 30, 42, 54, 66, 78, 90, 102)\n"
          ]
        }
      ],
      "source": [
        "t = tuple(\n",
        "    n for n in range(1, int(12345 ** .5) + 1)\n",
        "    if (n ** 2) % 3 == 0 and (n ** 2) % 4 == 0 and (n ** 2) % 8 != 0\n",
        ")\n",
        "print(t)"
      ]
    },
    {
      "cell_type": "markdown",
      "metadata": {
        "id": "OZBeUyxcoBGk"
      },
      "source": [
        "## Problem 2"
      ]
    },
    {
      "cell_type": "markdown",
      "metadata": {
        "id": "zIfvg22noBGk"
      },
      "source": [
        "\n",
        "Write a function that takes a two-dimensional array and a string as input and returns an array rotated 90 degrees counterclockwise if the string 'left' was passed, and clockwise if the string 'right' was passed.\n",
        "\n",
        "Example for input: $\\begin{bmatrix} 1 & 2 & 3 \\\\ 4 & 5 & 6 \\\\ 7 & 8 & 9 \\end{bmatrix}$.\\\n",
        "If the string 'left' is passed, the function should return $\\begin{bmatrix} 3 & 6 & 9 \\\\ 2 & 5 & 8 \\\\ 1 & 4 & 7 \\end{bmatrix}$, and if the string 'right' is passed, the function should return $\\begin{bmatrix} 7 & 4 & 1 \\\\ 8 & 5 & 2 \\\\ 9 & 6 & 3 \\end{bmatrix}$."
      ]
    },
    {
      "cell_type": "code",
      "execution_count": 27,
      "metadata": {
        "id": "HNvy_cRjoBGk",
        "colab": {
          "base_uri": "https://localhost:8080/"
        },
        "outputId": "b3b7b361-e636-4f18-ab78-314bf7c69785"
      },
      "outputs": [
        {
          "output_type": "stream",
          "name": "stdout",
          "text": [
            "[[3, 6, 9], [2, 5, 8], [1, 4, 7]]\n",
            "[[7, 4, 1], [8, 5, 2], [9, 6, 3]]\n"
          ]
        }
      ],
      "source": [
        "def rotate(mat, dir):\n",
        "    row = len(mat)\n",
        "    col = len(mat[0])\n",
        "\n",
        "    if dir == \"left\":\n",
        "        return [[mat[i][j] for i in range(row)] for j in reversed(range(col))]\n",
        "    else:\n",
        "        return [[mat[i][j] for i in reversed(range(row))] for j in range(col)]\n",
        "\n",
        "print(rotate([[1, 2, 3], [4, 5, 6], [7, 8, 9]], \"left\"))\n",
        "print(rotate([[1, 2, 3], [4, 5, 6], [7, 8, 9]], \"right\"))"
      ]
    },
    {
      "cell_type": "markdown",
      "metadata": {
        "id": "_dY-PFlCoBGk"
      },
      "source": [
        "## Problem 3"
      ]
    },
    {
      "cell_type": "markdown",
      "metadata": {
        "id": "3CaIwcm0oBGk"
      },
      "source": [
        "Write a function that takes a string as input and returns a dictionary containing the number of occurrences of each character in the string.\n",
        "\n",
        "Example for the string 'hello, world!': {'h': 1, 'e': 1, 'l': 3, 'o': 2, ',': 1, ' ': 1, 'w': 1, 'r': 1, 'd': 1, '!': 1}."
      ]
    },
    {
      "cell_type": "code",
      "execution_count": 28,
      "metadata": {
        "id": "rlSbHusZoBGk",
        "colab": {
          "base_uri": "https://localhost:8080/"
        },
        "outputId": "95ee0656-e0fa-4596-d9ea-af69b8140166"
      },
      "outputs": [
        {
          "output_type": "stream",
          "name": "stdout",
          "text": [
            "{'h': 1, 'e': 1, 'l': 3, 'o': 2, ',': 1, ' ': 1, 'w': 1, 'r': 1, 'd': 1, '!': 1}\n"
          ]
        }
      ],
      "source": [
        "def occurrences(s):\n",
        "    return {c : s.count(c) for c in s}\n",
        "print(occurrences(\"hello, world!\"))"
      ]
    },
    {
      "cell_type": "markdown",
      "metadata": {
        "id": "KBGJ7PeboBGk"
      },
      "source": [
        "## Problem 4"
      ]
    },
    {
      "cell_type": "markdown",
      "metadata": {
        "id": "XS4Seqa9oBGk"
      },
      "source": [
        "### Implementing a Library Management System\n",
        "\n",
        "#### Description\n",
        "\n",
        "You are required to design and implement a system for managing books and users in a library. The system should allow for the management of books (adding, deleting, searching by various criteria) and users (registration, deletion, searching), as well as tracking the history of interactions between them (issuing and returning books).\n",
        "\n",
        "#### Tasks\n",
        "\n",
        "1. **`Book` Class**:\n",
        "   - Attributes: title, author, year of publication, ISBN, number of copies.\n",
        "   - Methods: constructor, methods to get information about the book, method to change the number of copies (when issuing and returning books).\n",
        "\n",
        "2. **`User` Class**:\n",
        "   - Attributes: user name, library card number, list of borrowed books.\n",
        "   - Methods: constructor, methods for user registration, methods for adding and removing books from the borrowed list.\n",
        "\n",
        "3. **`Library` Class**:\n",
        "   - Attributes: list of books, list of users, transaction history (who, when, which book was borrowed and returned).\n",
        "   - Methods: constructor, methods for adding and deleting books and users, methods for issuing and returning books, searching for books and users by various criteria, method to display the transaction history.\n",
        "\n",
        "#### Assignment\n",
        "\n",
        "1. Implement the `Book`, `User`, and `Library` classes with the specified attributes and methods.\n",
        "2. Create several books and users, and add them to the library system.\n",
        "3. Implement scenarios for issuing books to users and their return.\n",
        "4. Display the transaction history to show how books were issued and returned.\n"
      ]
    },
    {
      "cell_type": "code",
      "execution_count": 29,
      "metadata": {
        "id": "IbqwtWWsoBGl",
        "colab": {
          "base_uri": "https://localhost:8080/"
        },
        "outputId": "77806e7e-b05a-4d72-917d-f1e29d174e7f"
      },
      "outputs": [
        {
          "output_type": "stream",
          "name": "stdout",
          "text": [
            "Vasya (#1) borrowed 'Fluent Python' by 'Luciano Ramalho' on 2025-02-16\n",
            "Petya (#2) borrowed 'Fluent Python' by 'Luciano Ramalho' on 2025-02-16\n",
            "Nikita (#3) tried to borrow 'Fluent Python' by 'Luciano Ramalho' on 2025-02-16\n",
            "Petya (#2) returned 'Fluent Python' by 'Luciano Ramalho' on 2025-02-16\n",
            "Nikita (#3) borrowed 'Fluent Python' by 'Luciano Ramalho' on 2025-02-16\n"
          ]
        }
      ],
      "source": [
        "import datetime\n",
        "\n",
        "class Book:\n",
        "    def __init__(self, title, author, year, isbn, amount):\n",
        "        self.title = title\n",
        "        self.author = author\n",
        "        self.year = year\n",
        "        self.isbn = isbn\n",
        "        self.amount = amount\n",
        "\n",
        "    def borrow_book(self):\n",
        "        if self.amount > 0:\n",
        "            self.amount -= 1\n",
        "            return True\n",
        "        else:\n",
        "            return False\n",
        "\n",
        "    def return_book(self):\n",
        "        self.amount += 1\n",
        "        return True\n",
        "\n",
        "    def get_info(self):\n",
        "        return {\n",
        "            \"title\": self.title,\n",
        "            \"author\": self.author,\n",
        "            \"year\": self.year,\n",
        "            \"ISBN\": self.isbn,\n",
        "            \"amount\": amount,\n",
        "        }\n",
        "\n",
        "    def short_info(self):\n",
        "        return f\"{self.title!r} by {self.author!r}\"\n",
        "\n",
        "    def display_info(self):\n",
        "        return f\"Book {self.title!r} by {self.author!r}, {self.year}, {self.isbn} x{self.amount}\"\n",
        "\n",
        "class User:\n",
        "    def __init__(self, name, id):\n",
        "        self.name = name\n",
        "        self.id = id\n",
        "        self.books = []\n",
        "\n",
        "    def short_info(self):\n",
        "        return f\"{self.name} (#{self.id})\"\n",
        "\n",
        "    def borrow_book(self, book):\n",
        "        if book in self.books:\n",
        "            return False\n",
        "        elif book.borrow_book():\n",
        "            self.books.append(book)\n",
        "            return True\n",
        "        else:\n",
        "            return False\n",
        "\n",
        "    def return_book(self, book):\n",
        "        if book in self.books:\n",
        "            self.books.remove(book)\n",
        "            book.return_book()\n",
        "            return True\n",
        "        else:\n",
        "            return False\n",
        "\n",
        "class Library:\n",
        "    def __init__(self):\n",
        "        self.books = []\n",
        "        self.users = []\n",
        "        self.history = []\n",
        "\n",
        "    def add_book(self, book):\n",
        "        self.books.append(book)\n",
        "\n",
        "    def remove_book(self, book):\n",
        "        if book in self.books:\n",
        "            self.books.remove(book)\n",
        "            return True\n",
        "        else:\n",
        "            return False\n",
        "\n",
        "    def add_user(self, name):\n",
        "        new_user = User(name, len(self.users) + 1)\n",
        "        self.users.append(new_user)\n",
        "        return new_user\n",
        "\n",
        "    def borrow_book(self, user, book):\n",
        "        ok = user.borrow_book(book)\n",
        "        self.history.append((user, datetime.date.today(), book, \"borrowed\" if ok else \"tried to borrow\"))\n",
        "        return ok\n",
        "\n",
        "    def return_book(self, user, book):\n",
        "        ok = user.return_book(book)\n",
        "        self.history.append((user, datetime.date.today(), book, \"returned\" if ok else \"tried to return\"))\n",
        "        return ok\n",
        "\n",
        "    def search_user(self, name):\n",
        "        return [user for user in self.users if name in user.name]\n",
        "\n",
        "    def search_book(self, name):\n",
        "        return [book for book in self.books if name in book.name]\n",
        "\n",
        "    def show_history(self):\n",
        "        for user, date, book, action in self.history:\n",
        "            print(user.short_info(), action, book.short_info(), \"on\", date)\n",
        "\n",
        "lib = Library()\n",
        "book1 = Book(\"Learning Python\", \"Mark Lutz\", 2013, \"978-1449355739\", 10)\n",
        "book2 = Book(\"Fluent Python\", \"Luciano Ramalho\", 2022, \"978-1492056355\", 2)\n",
        "lib.add_book(book1)\n",
        "lib.add_book(book2)\n",
        "user1 = lib.add_user(\"Vasya\")\n",
        "user2 = lib.add_user(\"Petya\")\n",
        "user3 = lib.add_user(\"Nikita\")\n",
        "\n",
        "assert lib.borrow_book(user1, book2) == True\n",
        "assert lib.borrow_book(user2, book2) == True\n",
        "assert lib.borrow_book(user3, book2) == False\n",
        "\n",
        "assert lib.return_book(user2, book2) == True\n",
        "assert lib.borrow_book(user3, book2) == True\n",
        "\n",
        "lib.show_history()\n"
      ]
    },
    {
      "cell_type": "markdown",
      "metadata": {
        "id": "0c8zRbSIoBGl"
      },
      "source": [
        "## Problem 5*"
      ]
    },
    {
      "cell_type": "markdown",
      "metadata": {
        "id": "8ltdzRmOoBGl"
      },
      "source": [
        "Explain why list `b` changes after the execution of the following code:\n",
        "\n",
        "```python\n",
        "a = [1, 2, 3]\n",
        "b = a\n",
        "a[0] = 4\n",
        "print(b)\n",
        "```"
      ]
    },
    {
      "cell_type": "markdown",
      "metadata": {
        "id": "RxgnUfFPoBGl"
      },
      "source": [
        "> Write your answer in markdown cell after:"
      ]
    },
    {
      "cell_type": "markdown",
      "metadata": {
        "id": "Mb-amOX5oBGl"
      },
      "source": [
        "Все переменные в python являются ссылками. Поэтому код \"b = a\" означает, что теперь b является ссылкой на тот же объект, на который ссылается a. И переменные a, b являются двумя способами получить доступ к одному и тому же объекту.\n",
        "Поэтому \"a[0] = 4\" и \"print(b)\" используют один и тот же объект, но разными способами."
      ]
    },
    {
      "cell_type": "markdown",
      "source": [],
      "metadata": {
        "id": "pVDsKyIP3DXc"
      }
    },
    {
      "cell_type": "markdown",
      "metadata": {
        "id": "TmXLkc_foBGl"
      },
      "source": [
        "## Problem 6*"
      ]
    },
    {
      "cell_type": "markdown",
      "metadata": {
        "id": "Gn0ibiVCoBGl"
      },
      "source": [
        "Let\n",
        "$$A = \\sum_{i=1}^{10000} \\frac{1}{i^2},\\quad B=\\sum_{i=10000}^{1} \\frac{1}{i^2}.$$\n",
        "Calculate the values of $A$ and $B$ and compare them. What do you observe? Explain why this happens. What is the best way to calculate the value of $\\sum\\limits_{i=1}^{10000} \\dfrac{1}{i^2}$?"
      ]
    },
    {
      "cell_type": "code",
      "execution_count": 30,
      "metadata": {
        "id": "3q93uGqFoBGl",
        "colab": {
          "base_uri": "https://localhost:8080/"
        },
        "outputId": "5ef7e889-b3b7-4ec2-d875-94e37dc236eb"
      },
      "outputs": [
        {
          "output_type": "stream",
          "name": "stdout",
          "text": [
            "1.6448340718480652 1.6448340718480596 5.551115123125783e-15\n"
          ]
        }
      ],
      "source": [
        "a = sum(1 / i ** 2 for i in range(1, 10001))\n",
        "b = sum(1 / i ** 2 for i in reversed(range(1, 10001)))\n",
        "print(a, b, a - b)"
      ]
    },
    {
      "cell_type": "markdown",
      "source": [
        "Разница обусловлена ошибками округления при работе с числами с плавающей точкой. При сложении двух чисел ошибка зависит от максимального из модулей двух чисел. Поэтому нужно организовать суммирование так, чтобы переменная, которая накапливает сумму оставалась как можно дольше маленкой. А достичь этого можно, если складывать числа в порядке возрастания их модулей. В данном конкретном случае это означает суммирование в обратном порядке."
      ],
      "metadata": {
        "id": "zgE-sf7P2xKd"
      }
    }
  ],
  "metadata": {
    "colab": {
      "provenance": []
    },
    "kernelspec": {
      "display_name": "Python 3",
      "language": "python",
      "name": "python3"
    },
    "language_info": {
      "codemirror_mode": {
        "name": "ipython",
        "version": 3
      },
      "file_extension": ".py",
      "mimetype": "text/x-python",
      "name": "python",
      "nbconvert_exporter": "python",
      "pygments_lexer": "ipython3",
      "version": "3.10.6"
    }
  },
  "nbformat": 4,
  "nbformat_minor": 0
}